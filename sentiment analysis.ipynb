{
 "cells": [
  {
   "cell_type": "markdown",
   "id": "02abed03",
   "metadata": {},
   "source": [
    "# Sentiment Analysis on twitter data about Apple Inc"
   ]
  },
  {
   "cell_type": "markdown",
   "id": "9213bcc2",
   "metadata": {},
   "source": [
    "Sentiment analysis is the systematic identification, extraction, and study of subjective information using natural language processing, text analysis. Sentiment analysis is commonly used in customer service, marketing, and clinical medicine to analyse voice of the customer materials such as reviews and survey replies, as well as online and social media resources."
   ]
  },
  {
   "cell_type": "markdown",
   "id": "b731886b",
   "metadata": {},
   "source": [
    "# Loading Libraries"
   ]
  },
  {
   "cell_type": "code",
   "execution_count": 4,
   "id": "ce1535ab",
   "metadata": {},
   "outputs": [],
   "source": [
    "import pandas as pd\n",
    "import nltk\n",
    "import re\n",
    "import matplotlib.pyplot as plt\n",
    "import seaborn as sns"
   ]
  },
  {
   "cell_type": "markdown",
   "id": "496870dd",
   "metadata": {},
   "source": [
    "# Importing the Data\n"
   ]
  },
  {
   "cell_type": "markdown",
   "id": "d591a38a",
   "metadata": {},
   "source": [
    "We don't need a lot of the extra information that comes with the raw data for this Analysis. We remove these portions in this part and end up with the DataFrame structure shown below."
   ]
  },
  {
   "cell_type": "code",
   "execution_count": 6,
   "id": "bcbb8d47",
   "metadata": {},
   "outputs": [
    {
     "data": {
      "text/html": [
       "<div>\n",
       "<style scoped>\n",
       "    .dataframe tbody tr th:only-of-type {\n",
       "        vertical-align: middle;\n",
       "    }\n",
       "\n",
       "    .dataframe tbody tr th {\n",
       "        vertical-align: top;\n",
       "    }\n",
       "\n",
       "    .dataframe thead th {\n",
       "        text-align: right;\n",
       "    }\n",
       "</style>\n",
       "<table border=\"1\" class=\"dataframe\">\n",
       "  <thead>\n",
       "    <tr style=\"text-align: right;\">\n",
       "      <th></th>\n",
       "      <th>sentiment</th>\n",
       "      <th>sentiment:confidence</th>\n",
       "      <th>text</th>\n",
       "    </tr>\n",
       "  </thead>\n",
       "  <tbody>\n",
       "    <tr>\n",
       "      <th>0</th>\n",
       "      <td>1</td>\n",
       "      <td>0.8468</td>\n",
       "      <td>Top 3 all @Apple #tablets. Damn right! http://...</td>\n",
       "    </tr>\n",
       "    <tr>\n",
       "      <th>1</th>\n",
       "      <td>1</td>\n",
       "      <td>0.6736</td>\n",
       "      <td>CNBCTV: #Apple's margins better than expected?...</td>\n",
       "    </tr>\n",
       "    <tr>\n",
       "      <th>2</th>\n",
       "      <td>0</td>\n",
       "      <td>1.0000</td>\n",
       "      <td>WTF MY BATTERY WAS 31% ONE SECOND AGO AND NOW ...</td>\n",
       "    </tr>\n",
       "    <tr>\n",
       "      <th>3</th>\n",
       "      <td>1</td>\n",
       "      <td>1.0000</td>\n",
       "      <td>RT @peterpham: Bought my @AugustSmartLock at t...</td>\n",
       "    </tr>\n",
       "    <tr>\n",
       "      <th>4</th>\n",
       "      <td>0</td>\n",
       "      <td>1.0000</td>\n",
       "      <td>@apple Contact sync between Yosemite and iOS8 ...</td>\n",
       "    </tr>\n",
       "  </tbody>\n",
       "</table>\n",
       "</div>"
      ],
      "text/plain": [
       "   sentiment  sentiment:confidence  \\\n",
       "0          1                0.8468   \n",
       "1          1                0.6736   \n",
       "2          0                1.0000   \n",
       "3          1                1.0000   \n",
       "4          0                1.0000   \n",
       "\n",
       "                                                text  \n",
       "0  Top 3 all @Apple #tablets. Damn right! http://...  \n",
       "1  CNBCTV: #Apple's margins better than expected?...  \n",
       "2  WTF MY BATTERY WAS 31% ONE SECOND AGO AND NOW ...  \n",
       "3  RT @peterpham: Bought my @AugustSmartLock at t...  \n",
       "4  @apple Contact sync between Yosemite and iOS8 ...  "
      ]
     },
     "execution_count": 6,
     "metadata": {},
     "output_type": "execute_result"
    }
   ],
   "source": [
    "df = pd.read_csv('/Volumes/E/dataset/Apple-Twitter-Sentiment-DFE.csv', encoding='latin-1')\n",
    "\n",
    "\n",
    "#Removing NaN and \"dont care\" response for binary analysis.\n",
    "df = df[df['sentiment']!=\"3\"]\n",
    "df = df[df['sentiment']!='not_relevant']\n",
    "df = df.reset_index()\n",
    "\n",
    "#Removing the extra columns\n",
    "df = df.drop(['_unit_id','index', '_golden', '_unit_state', '_trusted_judgments', '_last_judgment_at', 'date','id','query', 'sentiment_gold'], axis =1)\n",
    "\n",
    "def encoder(x):\n",
    "    #An encoder to get 1s and 0s for each of the sentiment\n",
    "    if x=='5':\n",
    "        return 1\n",
    "    else:\n",
    "        return 0\n",
    "\n",
    "#Apply encoder to sentiment column\n",
    "df['sentiment'] = df['sentiment'].apply(encoder)\n",
    "df.head()"
   ]
  },
  {
   "cell_type": "markdown",
   "id": "4139a3ee",
   "metadata": {},
   "source": [
    "# Text Preprocessing and Cleaning"
   ]
  },
  {
   "cell_type": "markdown",
   "id": "c735268a",
   "metadata": {},
   "source": [
    "# Clean the Data¶\n"
   ]
  },
  {
   "cell_type": "markdown",
   "id": "82e28015",
   "metadata": {},
   "source": [
    "There are a lot of non-text symbols in our dataset because it's made up of Tweets. This will simply help to confuse our algorithms and reduce the accuracy of sentiment forecasts. As a result, we chose to remove such symbols in order to create a simpler and potentially more accurate model."
   ]
  },
  {
   "cell_type": "code",
   "execution_count": 9,
   "id": "8878f2f2",
   "metadata": {},
   "outputs": [
    {
     "name": "stderr",
     "output_type": "stream",
     "text": [
      "<ipython-input-9-fa55abbd6eee>:5: FutureWarning: The default value of regex will change from True to False in a future version.\n",
      "  df[text_field] = df[text_field].str.replace(r\"http\\S+\", \"\")\n",
      "<ipython-input-9-fa55abbd6eee>:7: FutureWarning: The default value of regex will change from True to False in a future version.\n",
      "  df[text_field] = df[text_field].str.replace(r\"@\\S+\", \"\")\n",
      "<ipython-input-9-fa55abbd6eee>:8: FutureWarning: The default value of regex will change from True to False in a future version.\n",
      "  df[text_field] = df[text_field].str.replace(r\"[^A-Za-z0-9(),!?@\\'\\`\\\"\\_\\n]\", \" \")\n"
     ]
    }
   ],
   "source": [
    "from sklearn.model_selection import train_test_split\n",
    "\n",
    "def standardize_text(df, text_field):\n",
    "    #removes special strings and non text\n",
    "    df[text_field] = df[text_field].str.replace(r\"http\\S+\", \"\")\n",
    "    df[text_field] = df[text_field].str.replace(r\"http\", \"\")\n",
    "    df[text_field] = df[text_field].str.replace(r\"@\\S+\", \"\")\n",
    "    df[text_field] = df[text_field].str.replace(r\"[^A-Za-z0-9(),!?@\\'\\`\\\"\\_\\n]\", \" \")\n",
    "    df[text_field] = df[text_field].str.replace(r\"@\", \"at\")\n",
    "    df[text_field] = df[text_field].str.lower()\n",
    "    return df\n",
    "\n",
    "df = standardize_text(df, 'text')\n",
    "df.to_csv('clean_apple.csv')"
   ]
  },
  {
   "cell_type": "markdown",
   "id": "7d9310dd",
   "metadata": {},
   "source": [
    "# Data Inspection¶\n"
   ]
  },
  {
   "cell_type": "markdown",
   "id": "ffb99260",
   "metadata": {},
   "source": [
    "Let's check out a few tweets with sentiment 1."
   ]
  },
  {
   "cell_type": "code",
   "execution_count": 10,
   "id": "4c21116f",
   "metadata": {},
   "outputs": [
    {
     "data": {
      "text/html": [
       "<div>\n",
       "<style scoped>\n",
       "    .dataframe tbody tr th:only-of-type {\n",
       "        vertical-align: middle;\n",
       "    }\n",
       "\n",
       "    .dataframe tbody tr th {\n",
       "        vertical-align: top;\n",
       "    }\n",
       "\n",
       "    .dataframe thead th {\n",
       "        text-align: right;\n",
       "    }\n",
       "</style>\n",
       "<table border=\"1\" class=\"dataframe\">\n",
       "  <thead>\n",
       "    <tr style=\"text-align: right;\">\n",
       "      <th></th>\n",
       "      <th>sentiment</th>\n",
       "      <th>sentiment:confidence</th>\n",
       "      <th>text</th>\n",
       "    </tr>\n",
       "  </thead>\n",
       "  <tbody>\n",
       "    <tr>\n",
       "      <th>0</th>\n",
       "      <td>1</td>\n",
       "      <td>0.8468</td>\n",
       "      <td>top 3 all   tablets  damn right!</td>\n",
       "    </tr>\n",
       "    <tr>\n",
       "      <th>1</th>\n",
       "      <td>1</td>\n",
       "      <td>0.6736</td>\n",
       "      <td>cnbctv   apple's margins better than expected?...</td>\n",
       "    </tr>\n",
       "    <tr>\n",
       "      <th>3</th>\n",
       "      <td>1</td>\n",
       "      <td>1.0000</td>\n",
       "      <td>rt  bought my  at the  store  pretty good logo...</td>\n",
       "    </tr>\n",
       "    <tr>\n",
       "      <th>10</th>\n",
       "      <td>1</td>\n",
       "      <td>0.5724</td>\n",
       "      <td>latest apple products leading in efficiency   ...</td>\n",
       "    </tr>\n",
       "    <tr>\n",
       "      <th>11</th>\n",
       "      <td>1</td>\n",
       "      <td>1.0000</td>\n",
       "      <td>rt    thanks   thinking of upgrading</td>\n",
       "    </tr>\n",
       "  </tbody>\n",
       "</table>\n",
       "</div>"
      ],
      "text/plain": [
       "    sentiment  sentiment:confidence  \\\n",
       "0           1                0.8468   \n",
       "1           1                0.6736   \n",
       "3           1                1.0000   \n",
       "10          1                0.5724   \n",
       "11          1                1.0000   \n",
       "\n",
       "                                                 text  \n",
       "0                   top 3 all   tablets  damn right!   \n",
       "1   cnbctv   apple's margins better than expected?...  \n",
       "3   rt  bought my  at the  store  pretty good logo...  \n",
       "10  latest apple products leading in efficiency   ...  \n",
       "11              rt    thanks   thinking of upgrading   "
      ]
     },
     "execution_count": 10,
     "metadata": {},
     "output_type": "execute_result"
    }
   ],
   "source": [
    "\n",
    "df[df['sentiment'] == 1].head(5)"
   ]
  },
  {
   "cell_type": "markdown",
   "id": "15696705",
   "metadata": {},
   "source": [
    "Let's check out a few tweets with sentiment 0."
   ]
  },
  {
   "cell_type": "code",
   "execution_count": 11,
   "id": "c8c43219",
   "metadata": {},
   "outputs": [
    {
     "data": {
      "text/html": [
       "<div>\n",
       "<style scoped>\n",
       "    .dataframe tbody tr th:only-of-type {\n",
       "        vertical-align: middle;\n",
       "    }\n",
       "\n",
       "    .dataframe tbody tr th {\n",
       "        vertical-align: top;\n",
       "    }\n",
       "\n",
       "    .dataframe thead th {\n",
       "        text-align: right;\n",
       "    }\n",
       "</style>\n",
       "<table border=\"1\" class=\"dataframe\">\n",
       "  <thead>\n",
       "    <tr style=\"text-align: right;\">\n",
       "      <th></th>\n",
       "      <th>sentiment</th>\n",
       "      <th>sentiment:confidence</th>\n",
       "      <th>text</th>\n",
       "    </tr>\n",
       "  </thead>\n",
       "  <tbody>\n",
       "    <tr>\n",
       "      <th>2</th>\n",
       "      <td>0</td>\n",
       "      <td>1.0000</td>\n",
       "      <td>wtf my battery was 31  one second ago and now ...</td>\n",
       "    </tr>\n",
       "    <tr>\n",
       "      <th>4</th>\n",
       "      <td>0</td>\n",
       "      <td>1.0000</td>\n",
       "      <td>contact sync between yosemite and ios8 is ser...</td>\n",
       "    </tr>\n",
       "    <tr>\n",
       "      <th>5</th>\n",
       "      <td>0</td>\n",
       "      <td>0.9399</td>\n",
       "      <td>warning if you buy an iphone 5s unlocked from ...</td>\n",
       "    </tr>\n",
       "    <tr>\n",
       "      <th>6</th>\n",
       "      <td>0</td>\n",
       "      <td>1.0000</td>\n",
       "      <td>for the love of gawd, center the '1'on the da...</td>\n",
       "    </tr>\n",
       "    <tr>\n",
       "      <th>7</th>\n",
       "      <td>0</td>\n",
       "      <td>0.8928</td>\n",
       "      <td>i get the storage almost full notification lit...</td>\n",
       "    </tr>\n",
       "  </tbody>\n",
       "</table>\n",
       "</div>"
      ],
      "text/plain": [
       "   sentiment  sentiment:confidence  \\\n",
       "2          0                1.0000   \n",
       "4          0                1.0000   \n",
       "5          0                0.9399   \n",
       "6          0                1.0000   \n",
       "7          0                0.8928   \n",
       "\n",
       "                                                text  \n",
       "2  wtf my battery was 31  one second ago and now ...  \n",
       "4   contact sync between yosemite and ios8 is ser...  \n",
       "5  warning if you buy an iphone 5s unlocked from ...  \n",
       "6   for the love of gawd, center the '1'on the da...  \n",
       "7  i get the storage almost full notification lit...  "
      ]
     },
     "execution_count": 11,
     "metadata": {},
     "output_type": "execute_result"
    }
   ],
   "source": [
    "\n",
    "df[df['sentiment'] == 0].head(5)"
   ]
  },
  {
   "cell_type": "markdown",
   "id": "5a7c3d2e",
   "metadata": {},
   "source": [
    "# Data Tokenization¶\n"
   ]
  },
  {
   "cell_type": "markdown",
   "id": "861afa87",
   "metadata": {},
   "source": [
    "Here we turn our twitter strings to lists of individual tokens. (words, punctuations)"
   ]
  },
  {
   "cell_type": "code",
   "execution_count": 12,
   "id": "c17f1ef3",
   "metadata": {},
   "outputs": [
    {
     "data": {
      "text/html": [
       "<div>\n",
       "<style scoped>\n",
       "    .dataframe tbody tr th:only-of-type {\n",
       "        vertical-align: middle;\n",
       "    }\n",
       "\n",
       "    .dataframe tbody tr th {\n",
       "        vertical-align: top;\n",
       "    }\n",
       "\n",
       "    .dataframe thead th {\n",
       "        text-align: right;\n",
       "    }\n",
       "</style>\n",
       "<table border=\"1\" class=\"dataframe\">\n",
       "  <thead>\n",
       "    <tr style=\"text-align: right;\">\n",
       "      <th></th>\n",
       "      <th>sentiment</th>\n",
       "      <th>sentiment:confidence</th>\n",
       "      <th>text</th>\n",
       "      <th>tokens</th>\n",
       "    </tr>\n",
       "  </thead>\n",
       "  <tbody>\n",
       "    <tr>\n",
       "      <th>0</th>\n",
       "      <td>1</td>\n",
       "      <td>0.8468</td>\n",
       "      <td>top 3 all   tablets  damn right!</td>\n",
       "      <td>[top, 3, all, tablets, damn, right]</td>\n",
       "    </tr>\n",
       "    <tr>\n",
       "      <th>1</th>\n",
       "      <td>1</td>\n",
       "      <td>0.6736</td>\n",
       "      <td>cnbctv   apple's margins better than expected?...</td>\n",
       "      <td>[cnbctv, apple, s, margins, better, than, expe...</td>\n",
       "    </tr>\n",
       "    <tr>\n",
       "      <th>2</th>\n",
       "      <td>0</td>\n",
       "      <td>1.0000</td>\n",
       "      <td>wtf my battery was 31  one second ago and now ...</td>\n",
       "      <td>[wtf, my, battery, was, 31, one, second, ago, ...</td>\n",
       "    </tr>\n",
       "    <tr>\n",
       "      <th>3</th>\n",
       "      <td>1</td>\n",
       "      <td>1.0000</td>\n",
       "      <td>rt  bought my  at the  store  pretty good logo...</td>\n",
       "      <td>[rt, bought, my, at, the, store, pretty, good,...</td>\n",
       "    </tr>\n",
       "    <tr>\n",
       "      <th>4</th>\n",
       "      <td>0</td>\n",
       "      <td>1.0000</td>\n",
       "      <td>contact sync between yosemite and ios8 is ser...</td>\n",
       "      <td>[contact, sync, between, yosemite, and, ios8, ...</td>\n",
       "    </tr>\n",
       "  </tbody>\n",
       "</table>\n",
       "</div>"
      ],
      "text/plain": [
       "   sentiment  sentiment:confidence  \\\n",
       "0          1                0.8468   \n",
       "1          1                0.6736   \n",
       "2          0                1.0000   \n",
       "3          1                1.0000   \n",
       "4          0                1.0000   \n",
       "\n",
       "                                                text  \\\n",
       "0                  top 3 all   tablets  damn right!    \n",
       "1  cnbctv   apple's margins better than expected?...   \n",
       "2  wtf my battery was 31  one second ago and now ...   \n",
       "3  rt  bought my  at the  store  pretty good logo...   \n",
       "4   contact sync between yosemite and ios8 is ser...   \n",
       "\n",
       "                                              tokens  \n",
       "0                [top, 3, all, tablets, damn, right]  \n",
       "1  [cnbctv, apple, s, margins, better, than, expe...  \n",
       "2  [wtf, my, battery, was, 31, one, second, ago, ...  \n",
       "3  [rt, bought, my, at, the, store, pretty, good,...  \n",
       "4  [contact, sync, between, yosemite, and, ios8, ...  "
      ]
     },
     "execution_count": 12,
     "metadata": {},
     "output_type": "execute_result"
    }
   ],
   "source": [
    "from nltk.tokenize import RegexpTokenizer\n",
    "\n",
    "#NLTK tokenizer\n",
    "tokenizer = RegexpTokenizer(r'\\w+')\n",
    "df['tokens'] = df['text'].apply(tokenizer.tokenize)\n",
    "df.head()"
   ]
  },
  {
   "cell_type": "markdown",
   "id": "3012a097",
   "metadata": {},
   "source": [
    "# Sentence Length and Vocabulary Size"
   ]
  },
  {
   "cell_type": "markdown",
   "id": "e2345692",
   "metadata": {},
   "source": [
    "We have an average sentence length around 14-15 words, and a vocabulary size of 3,711 unique words.\n",
    "\n"
   ]
  },
  {
   "cell_type": "code",
   "execution_count": 13,
   "id": "f93b0bee",
   "metadata": {},
   "outputs": [
    {
     "data": {
      "image/png": "[encoded data removed]",
      "text/plain": [
       "<Figure size 720x720 with 1 Axes>"
      ]
     },
     "metadata": {
      "needs_background": "light"
     },
     "output_type": "display_data"
    }
   ],
   "source": [
    "sentence_lengths = [len(tokens) for tokens in df['tokens']]\n",
    "vocab = sorted(list(set([word for tokens in df['tokens'] for word in tokens])))\n",
    "\n",
    "plt.figure(figsize = (10,10))\n",
    "plt.xlabel('Sentence Length (in words)')\n",
    "plt.ylabel('Number of Tweets')\n",
    "plt.title('Sentence Lengths')\n",
    "plt.hist(sentence_lengths)\n",
    "plt.show()\n"
   ]
  },
  {
   "cell_type": "code",
   "execution_count": 14,
   "id": "8c638012",
   "metadata": {},
   "outputs": [
    {
     "name": "stdout",
     "output_type": "stream",
     "text": [
      "Words in vocab:  3701\n"
     ]
    }
   ],
   "source": [
    "print('Words in vocab: ', len(vocab))"
   ]
  },
  {
   "cell_type": "markdown",
   "id": "787a90d3",
   "metadata": {},
   "source": [
    "# Bag of Words¶"
   ]
  },
  {
   "cell_type": "markdown",
   "id": "63802084",
   "metadata": {},
   "source": [
    "We will use TFIDF to convert our token lists to numerical data."
   ]
  },
  {
   "cell_type": "code",
   "execution_count": 15,
   "id": "ea871dc5",
   "metadata": {},
   "outputs": [
    {
     "name": "stdout",
     "output_type": "stream",
     "text": [
      "0                    top 3 all   tablets  damn right! \n",
      "1    cnbctv   apple's margins better than expected?...\n",
      "2    wtf my battery was 31  one second ago and now ...\n",
      "3    rt  bought my  at the  store  pretty good logo...\n",
      "4     contact sync between yosemite and ios8 is ser...\n",
      "Name: text, dtype: object\n"
     ]
    }
   ],
   "source": [
    "from sklearn.model_selection import train_test_split\n",
    "from sklearn.feature_extraction.text import TfidfVectorizer\n",
    "\n",
    "X = df[['text', 'sentiment:confidence']]\n",
    "y = df['sentiment']\n",
    "\n",
    "#splitting data for cross validation of model\n",
    "X_train, X_test, y_train, y_test = train_test_split(X, y, test_size = 0.2,shuffle=False)\n",
    "\n",
    "#Keeping the assignment confidence for later\n",
    "X_train_conf, X_test_conf = X_train['sentiment:confidence'], X_test['sentiment:confidence']\n",
    "X_train, X_test = X_train['text'], X_test['text']\n",
    "\n",
    "#saving to csv\n",
    "X_train.to_csv('train_clean.csv')\n",
    "X_test.to_csv('test_clean.csv')\n",
    "y_train.to_csv('y_train.csv')\n",
    "y_test.to_csv('y_test.csv')\n",
    "\n",
    "print(X_train[:5])"
   ]
  },
  {
   "cell_type": "code",
   "execution_count": 16,
   "id": "ab190384",
   "metadata": {},
   "outputs": [
    {
     "data": {
      "text/plain": [
       "<1x3245 sparse matrix of type '<class 'numpy.float64'>'\n",
       "\twith 5 stored elements in Compressed Sparse Row format>"
      ]
     },
     "execution_count": 16,
     "metadata": {},
     "output_type": "execute_result"
    }
   ],
   "source": [
    "#vectorization with TFIDF and scikit learn\n",
    "vect = TfidfVectorizer()\n",
    "X_train_tfidf = vect.fit_transform(X_train)\n",
    "X_test_tfidf = vect.transform(X_test)\n",
    "\n",
    "\n",
    "#sparse matrix rows << columns\n",
    "X_train_tfidf[0]"
   ]
  },
  {
   "cell_type": "markdown",
   "id": "2362f61b",
   "metadata": {},
   "source": [
    "# Visualizing our Dataset¶\n"
   ]
  },
  {
   "cell_type": "markdown",
   "id": "43922fcc",
   "metadata": {},
   "source": [
    "To reduce our dataset to two dimensions, we apply a singular value decomposition. This will allow us to evaluate if the data has any intrinsic linear separability that our model could exploit."
   ]
  },
  {
   "cell_type": "code",
   "execution_count": 17,
   "id": "7b314d6c",
   "metadata": {},
   "outputs": [
    {
     "data": {
      "image/png": "[encoded data removed]",
      "text/plain": [
       "<Figure size 720x504 with 1 Axes>"
      ]
     },
     "metadata": {
      "needs_background": "light"
     },
     "output_type": "display_data"
    }
   ],
   "source": [
    "from sklearn.decomposition import TruncatedSVD\n",
    "import matplotlib\n",
    "import matplotlib.patches as mpatches\n",
    "\n",
    "def plot_lsa(text, labels, plot=True):\n",
    "    lsa = TruncatedSVD(n_components=2)\n",
    "    lsa.fit(text)\n",
    "    lsa_scores = lsa.transform(text)\n",
    "    color_dict = {label:idx for idx, label in enumerate(set(labels))}\n",
    "    color_column = [color_dict[label] for label in labels]\n",
    "    colors = ['orange', 'blue']\n",
    "    if plot:\n",
    "        plt.scatter(lsa_scores[:,0], lsa_scores[:,1], s=8, c = labels, cmap = matplotlib.colors.ListedColormap(colors))\n",
    "        red_patch = mpatches.Patch(color='orange', label='Negative')\n",
    "        green_patch = mpatches.Patch(color='blue', label='Positive')\n",
    "        plt.legend(handles=[red_patch, green_patch], prop={'size': 25})\n",
    "\n",
    "fig = plt.figure(figsize =(10,7))\n",
    "plot_lsa(X_train_tfidf, y_train)\n",
    "plt.xlim(0,0.25)\n",
    "plt.ylim(0,0.4)\n",
    "plt.title(\"2D Visual of Word Frequencies\", size = 18)\n",
    "plt.show()"
   ]
  },
  {
   "cell_type": "markdown",
   "id": "6b4ea694",
   "metadata": {},
   "source": [
    "# Model Building and Evaluation¶\n"
   ]
  },
  {
   "cell_type": "markdown",
   "id": "e1c61da9",
   "metadata": {},
   "source": [
    "# Model Building¶\n"
   ]
  },
  {
   "cell_type": "markdown",
   "id": "89c7dee0",
   "metadata": {},
   "source": [
    "Here we will compare a simple logistic regression with a SVM that is tweaked with GridSearchCV."
   ]
  },
  {
   "cell_type": "code",
   "execution_count": 20,
   "id": "6eb8217f",
   "metadata": {},
   "outputs": [],
   "source": [
    "from sklearn.linear_model import LogisticRegressionCV\n",
    "\n",
    "logr = LogisticRegressionCV()\n",
    "logr.fit(X_train_tfidf, y_train)\n",
    "y_pred_logr = logr.predict(X_test_tfidf)"
   ]
  },
  {
   "cell_type": "code",
   "execution_count": 22,
   "id": "fbd5420c",
   "metadata": {},
   "outputs": [
    {
     "name": "stdout",
     "output_type": "stream",
     "text": [
      "Best performing classifier parameters (score 0.8416377515614158):\n",
      "{'classifier__C': 10, 'classifier__degree': 2, 'classifier__kernel': 'linear'}\n"
     ]
    }
   ],
   "source": [
    "from sklearn.svm import SVC\n",
    "from sklearn.model_selection import GridSearchCV\n",
    "from sklearn.pipeline import Pipeline\n",
    "\n",
    "\n",
    "\n",
    "clf = SVC(class_weight = 'balanced')\n",
    "pipe = Pipeline([('classifier', clf)])\n",
    "fit_params = {'classifier__kernel':['rbf', 'linear', 'poly'],\n",
    "          'classifier__degree':[2, 3, 4],\n",
    "          'classifier__C':[0.01, 0.1, 1, 10]}\n",
    "\n",
    "gs = GridSearchCV(pipe, fit_params, cv = 10, return_train_score = True)\n",
    "gs.fit(X_train_tfidf, y_train)\n",
    "\n",
    "\n",
    "print('Best performing classifier parameters (score {}):\\n{}'.format(gs.best_score_, gs.best_params_))\n",
    "\n",
    "pipe.set_params(classifier__degree = gs.best_params_['classifier__degree'],\n",
    "                classifier__kernel = gs.best_params_['classifier__kernel'],\n",
    "               classifier__C = gs.best_params_['classifier__C'])\n",
    "pipe.fit(X_train_tfidf, y_train)\n",
    "y_pred = pipe.predict(X_test_tfidf)"
   ]
  },
  {
   "cell_type": "markdown",
   "id": "df63604a",
   "metadata": {},
   "source": [
    "# Model Evaluation"
   ]
  },
  {
   "cell_type": "markdown",
   "id": "6ae3c0b9",
   "metadata": {},
   "source": [
    "The Logistic Regression offers a minor performance advantage over the linear SVM, as seen below. Given the scant data we had, we were able to build a model that was 89 percent accurate.\n",
    "Our classifier is performing well, with 74.2 percent accuracy when guessing the most common class. Both classes had nearly equal precision and recall."
   ]
  },
  {
   "cell_type": "code",
   "execution_count": 23,
   "id": "e9e821d0",
   "metadata": {},
   "outputs": [
    {
     "name": "stdout",
     "output_type": "stream",
     "text": [
      "Logistic Regression Accuracy:  0.7203647416413373\n",
      "\n",
      "Logistic Classification Report: \n",
      "               precision    recall  f1-score   support\n",
      "\n",
      "           0       0.75      0.90      0.82       226\n",
      "           1       0.60      0.33      0.42       103\n",
      "\n",
      "    accuracy                           0.72       329\n",
      "   macro avg       0.67      0.61      0.62       329\n",
      "weighted avg       0.70      0.72      0.69       329\n",
      "\n",
      "\n",
      "\n",
      " SVM Accuracy:  0.7264437689969605\n",
      "\n",
      "SVM Classification Report: \n",
      "               precision    recall  f1-score   support\n",
      "\n",
      "           0       0.76      0.88      0.82       226\n",
      "           1       0.60      0.38      0.46       103\n",
      "\n",
      "    accuracy                           0.73       329\n",
      "   macro avg       0.68      0.63      0.64       329\n",
      "weighted avg       0.71      0.73      0.71       329\n",
      "\n"
     ]
    }
   ],
   "source": [
    "from sklearn.metrics import accuracy_score, classification_report\n",
    "\n",
    "#Logistic Regression Eval\n",
    "print('Logistic Regression Accuracy: ', accuracy_score(y_test, y_pred_logr))\n",
    "print('\\nLogistic Classification Report: \\n' , classification_report(y_test,  y_pred_logr))\n",
    "\n",
    "#SVM Eval\n",
    "print('\\n\\n SVM Accuracy: ', accuracy_score(y_test, y_pred))\n",
    "print('\\nSVM Classification Report: \\n' , classification_report(y_test,  y_pred))\n"
   ]
  },
  {
   "cell_type": "markdown",
   "id": "eb71e250",
   "metadata": {},
   "source": [
    "# Confusion Matrix"
   ]
  },
  {
   "cell_type": "markdown",
   "id": "d4e2dac5",
   "metadata": {},
   "source": [
    "Our model has a preference towards giving false negatives rather than false positives. We look at some examples of misclassified tweets below."
   ]
  },
  {
   "cell_type": "code",
   "execution_count": 24,
   "id": "db7de010",
   "metadata": {},
   "outputs": [
    {
     "data": {
      "image/png": "[encoded data removed]",
      "text/plain": [
       "<Figure size 720x720 with 2 Axes>"
      ]
     },
     "metadata": {
      "needs_background": "light"
     },
     "output_type": "display_data"
    },
    {
     "name": "stdout",
     "output_type": "stream",
     "text": [
      "[[203  23]\n",
      " [ 69  34]]\n"
     ]
    }
   ],
   "source": [
    "import numpy as np\n",
    "import itertools\n",
    "from sklearn.metrics import confusion_matrix\n",
    "\n",
    "def plot_confusion_matrix(cm, classes,\n",
    "                          normalize=False,\n",
    "                          title='Confusion matrix',\n",
    "                          cmap=plt.cm.winter):\n",
    "    if normalize:\n",
    "        cm = cm.astype('float') / cm.sum(axis=1)[:, np.newaxis]\n",
    "    plt.imshow(cm, interpolation='nearest', cmap=cmap)\n",
    "    plt.title(title, fontsize=30)\n",
    "    plt.colorbar()\n",
    "    tick_marks = np.arange(len(classes))\n",
    "    plt.xticks(tick_marks, classes, fontsize=20)\n",
    "    plt.yticks(tick_marks, classes, fontsize=20)\n",
    "\n",
    "    fmt = '.2f' if normalize else 'd'\n",
    "    thresh = cm.max() / 2.\n",
    "\n",
    "    for i, j in itertools.product(range(cm.shape[0]), range(cm.shape[1])):\n",
    "        plt.text(j, i, format(cm[i, j], fmt), horizontalalignment=\"center\",\n",
    "                 color=\"white\" if cm[i, j] < thresh else \"black\", fontsize=40)\n",
    "\n",
    "    plt.tight_layout()\n",
    "    plt.ylabel('True label', fontsize=30)\n",
    "    plt.xlabel('Predicted label', fontsize=30)\n",
    "    return plt\n",
    "\n",
    "cm = confusion_matrix(y_test, y_pred_logr)\n",
    "fig = plt.figure(figsize=(10, 10))\n",
    "plot = plot_confusion_matrix(cm, classes=['Negative','Positive'], normalize=True, title='Confusion matrix')\n",
    "plt.show()\n",
    "print(cm)"
   ]
  },
  {
   "cell_type": "markdown",
   "id": "aebdb5d6",
   "metadata": {},
   "source": [
    "Examples of False Negatives (Predicted Neg/Actual Pos)¶"
   ]
  },
  {
   "cell_type": "code",
   "execution_count": 25,
   "id": "4335bd15",
   "metadata": {},
   "outputs": [
    {
     "name": "stdout",
     "output_type": "stream",
     "text": [
      "Number of False Negatives:  (69,) \n",
      "\n",
      "['apple continues beefing up digital audio expertise by hiring dana massie from audience  aapl  aapl \\n'] \n",
      "\n",
      "['it makes you smarter   elevate is  app of the year!  congratulations  and team   '] \n",
      "\n",
      "['rt  it makes you smarter   elevate is  app of the year!  congratulations  and team   '] \n",
      "\n",
      "['rt  it makes you smarter   elevate is  app of the year!  congratulations  and team   ']\n"
     ]
    }
   ],
   "source": [
    "def find_fn(ypred, ytrue):\n",
    "    y_fn  = X_test[(ypred==0)&(ypred!=ytrue)]\n",
    "    return y_fn\n",
    "\n",
    "fn = find_fn(y_pred_logr, y_test)\n",
    "print('Number of False Negatives: ', fn.shape, '\\n')\n",
    "print(fn[:1].values, '\\n')\n",
    "print(fn[1:2].values, '\\n')\n",
    "print(fn[2:3].values, '\\n')\n",
    "print(fn[3:4].values)"
   ]
  },
  {
   "cell_type": "markdown",
   "id": "a9eb29e7",
   "metadata": {},
   "source": [
    "Examples of False Positives (Predicted Pos/ Actual Neg)¶"
   ]
  },
  {
   "cell_type": "code",
   "execution_count": 26,
   "id": "d75a5426",
   "metadata": {},
   "outputs": [
    {
     "name": "stdout",
     "output_type": "stream",
     "text": [
      "Number of False Positives:  (23,) \n",
      "\n",
      "['dear   amp   i understand you want to protect me  is there any way you can cool it on password lockouts  amp  resets?'] \n",
      "\n",
      "[\"rt  higher price targets are not helping apple's shares  aapl  aapl \\n\"] \n",
      "\n",
      "['   \\nbeware of anything that includes the word care '] \n",
      "\n",
      "['thank you  for being such a little troll but putting the option close right above the save tab  legends']\n"
     ]
    }
   ],
   "source": [
    "def find_fp(ypred, ytrue):\n",
    "    y_fp  = X_test[(ypred==1)&(ypred!=ytrue)]\n",
    "    return y_fp\n",
    "\n",
    "fp = find_fp(y_pred_logr, y_test)\n",
    "print('Number of False Positives: ', fp.shape, '\\n')\n",
    "print(fp[:1].values, '\\n')\n",
    "print(fp[1:2].values, '\\n')\n",
    "print(fp[2:3].values, '\\n')\n",
    "print(fp[3:4].values)"
   ]
  },
  {
   "cell_type": "markdown",
   "id": "f441e03a",
   "metadata": {},
   "source": [
    "# Word Importances"
   ]
  },
  {
   "cell_type": "markdown",
   "id": "b60242b0",
   "metadata": {},
   "source": [
    "Our programme definitely picks up on phrases that could predict a favourable or negative tweet, as shown in the graphic below. Another important point to note is that the words \"facetime\" and \"charge\" both have a strong negative connotation. Perhaps these things irritate Twitter users?"
   ]
  },
  {
   "cell_type": "code",
   "execution_count": 27,
   "id": "fb095070",
   "metadata": {},
   "outputs": [],
   "source": [
    "def get_most_important_features(vectorizer, model, n=5):\n",
    "    index_to_word = {v:k for k,v in vectorizer.vocabulary_.items()}\n",
    "\n",
    "    # loop for each class\n",
    "    classes ={}\n",
    "    for class_index in range(model.coef_.shape[0]):\n",
    "        word_importances = [(el, index_to_word[i]) for i,el in enumerate(model.coef_[class_index])]\n",
    "        sorted_coeff = sorted(word_importances, key = lambda x : x[0], reverse=True)\n",
    "        tops = sorted(sorted_coeff[:n], key = lambda x : x[0])\n",
    "        bottom = sorted_coeff[-n:]\n",
    "        classes[class_index] = {\n",
    "            'tops':tops,\n",
    "            'bottom':bottom\n",
    "        }\n",
    "    return classes\n",
    "\n",
    "importance = get_most_important_features(vect, logr, 10)\n"
   ]
  },
  {
   "cell_type": "code",
   "execution_count": 29,
   "id": "0cdd2b01",
   "metadata": {
    "scrolled": true
   },
   "outputs": [
    {
     "data": {
      "image/png": "[encoded data removed]",
      "text/plain": [
       "<Figure size 720x720 with 2 Axes>"
      ]
     },
     "metadata": {
      "needs_background": "light"
     },
     "output_type": "display_data"
    }
   ],
   "source": [
    "def plot_important_words(top_scores, top_words, bottom_scores, bottom_words, name):\n",
    "    y_pos = np.arange(len(top_words))\n",
    "    top_pairs = [(a,b) for a,b in zip(top_words, top_scores)]\n",
    "    top_pairs = sorted(top_pairs, key=lambda x: x[1])\n",
    "\n",
    "    bottom_pairs = [(a,b) for a,b in zip(bottom_words, bottom_scores)]\n",
    "    bottom_pairs = sorted(bottom_pairs, key=lambda x: x[1], reverse=True)\n",
    "\n",
    "    top_words = [a[0] for a in top_pairs]\n",
    "    top_scores = [a[1] for a in top_pairs]\n",
    "\n",
    "    bottom_words = [a[0] for a in bottom_pairs]\n",
    "    bottom_scores = [a[1] for a in bottom_pairs]\n",
    "\n",
    "    fig = plt.figure(figsize=(10, 10))\n",
    "\n",
    "    plt.subplot(121)\n",
    "    plt.barh(y_pos,bottom_scores, align='center', alpha=0.5)\n",
    "    plt.title('Negative Sentiment', fontsize=20)\n",
    "    plt.yticks(y_pos, bottom_words, fontsize=14)\n",
    "    plt.suptitle('Key words', fontsize=16)\n",
    "    plt.xlabel('Importance', fontsize=20)\n",
    "\n",
    "    plt.subplot(122)\n",
    "    plt.barh(y_pos,top_scores, align='center', alpha=0.5)\n",
    "    plt.title('Positive Sentiment', fontsize=20)\n",
    "    plt.yticks(y_pos, top_words, fontsize=14)\n",
    "    plt.suptitle(name, fontsize=16)\n",
    "    plt.xlabel('Importance', fontsize=20)\n",
    "\n",
    "    plt.subplots_adjust(wspace=0.8)\n",
    "    plt.show()\n",
    "\n",
    "top_scores = [a[0] for a in importance[0]['tops']]\n",
    "top_words = [a[1] for a in importance[0]['tops']]\n",
    "bottom_scores = [a[0] for a in importance[0]['bottom']]\n",
    "bottom_words = [a[1] for a in importance[0]['bottom']]\n",
    "\n",
    "plot_important_words(top_scores, top_words, bottom_scores, bottom_words, \"Most Important Words for Sentiment\")"
   ]
  },
  {
   "cell_type": "code",
   "execution_count": null,
   "id": "86019516",
   "metadata": {},
   "outputs": [],
   "source": []
  }
 ],
 "metadata": {
  "kernelspec": {
   "display_name": "Python 3",
   "language": "python",
   "name": "python3"
  },
  "language_info": {
   "codemirror_mode": {
    "name": "ipython",
    "version": 3
   },
   "file_extension": ".py",
   "mimetype": "text/x-python",
   "name": "python",
   "nbconvert_exporter": "python",
   "pygments_lexer": "ipython3",
   "version": "3.8.8"
  }
 },
 "nbformat": 4,
 "nbformat_minor": 5
}
